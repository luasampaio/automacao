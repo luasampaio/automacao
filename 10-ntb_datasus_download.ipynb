{
  "nbformat": 4,
  "nbformat_minor": 0,
  "metadata": {
    "colab": {
      "provenance": [],
      "authorship_tag": "ABX9TyMY9iZavYAxCwRhqbVHNwV8",
      "include_colab_link": true
    },
    "kernelspec": {
      "name": "python3",
      "display_name": "Python 3"
    },
    "language_info": {
      "name": "python"
    }
  },
  "cells": [
    {
      "cell_type": "markdown",
      "metadata": {
        "id": "view-in-github",
        "colab_type": "text"
      },
      "source": [
        "<a href=\"https://colab.research.google.com/github/luasampaio/automacao/blob/main/ntb_datasus_download.ipynb\" target=\"_parent\"><img src=\"https://colab.research.google.com/assets/colab-badge.svg\" alt=\"Open In Colab\"/></a>"
      ]
    },
    {
      "cell_type": "markdown",
      "source": [
        "- Automatização do Processo de Download Datasus\n",
        "- Criado em 03.23\n",
        "- Luciana Sampaio\n"
      ],
      "metadata": {
        "id": "NuOVQzIjYi9h"
      }
    },
    {
      "cell_type": "code",
      "source": [
        "import requests\n",
        "from datetime import datetime, timedelta\n",
        "from ftplib import FTP\n",
        "import urllib.error\n",
        "import zipfile\n",
        "import os"
      ],
      "metadata": {
        "id": "KSDO_FZCKpO8"
      },
      "execution_count": 10,
      "outputs": []
    },
    {
      "cell_type": "code",
      "execution_count": 11,
      "metadata": {
        "id": "ns2Iv_tmKoNI"
      },
      "outputs": [],
      "source": [
        "def obter_ultima_url_valida(mes_inicio=1, ano_inicio=2024):\n",
        "    url_base = 'ftp://ftp.datasus.gov.br/cnes/BASE_DE_DADOS_CNES_{ano}{mes:02d}.ZIP'\n",
        "\n",
        "    mes_atual, ano_atual = datetime.now().month, datetime.now().year\n",
        "    data_inicio = datetime(ano_inicio, mes_inicio, 1)\n",
        "    data_atual = datetime(ano_atual, mes_atual, 1)\n",
        "\n",
        "    while data_inicio <= data_atual:\n",
        "        ultimo_dia_do_mes = (data_inicio.replace(day=1) + timedelta(days=32)).replace(day=1) - timedelta(days=1)\n",
        "        dias_no_mes = ultimo_dia_do_mes.day\n",
        "        url = url_base.format(ano=data_inicio.year, mes=data_inicio.month)\n",
        "\n",
        "        try:\n",
        "            # Verifica se a URL existe e possui tamanho maior que 0\n",
        "            tamanho_arquivo = obter_tamanho_arquivo_ftp(url)\n",
        "\n",
        "            if tamanho_arquivo is not None and tamanho_arquivo > 0:\n",
        "                ultima_url_valida = url\n",
        "\n",
        "            else:\n",
        "                break\n",
        "\n",
        "        except urllib.error.URLError:\n",
        "            # Trata erro de URL (por exemplo, 404 Not Found)\n",
        "            break\n",
        "\n",
        "        data_inicio += timedelta(days=dias_no_mes)  # Incrementa de acordo com os dias no mês\n",
        "\n",
        "    return ultima_url_valida"
      ]
    },
    {
      "cell_type": "code",
      "source": [
        "def obter_tamanho_arquivo_ftp(url):\n",
        "    try:\n",
        "        # Extrai informações de URL\n",
        "        partes_url = url.split('/')\n",
        "        servidor_ftp = partes_url[2]\n",
        "        caminho_arquivo = '/'.join(partes_url[3:])\n",
        "\n",
        "        # Conecta-se ao servidor FTP\n",
        "        with FTP(servidor_ftp) as ftp:\n",
        "            ftp.login()\n",
        "\n",
        "            tamanho_arquivo = ftp.size(caminho_arquivo)\n",
        "\n",
        "        return tamanho_arquivo\n",
        "\n",
        "    except Exception as e:\n",
        "        return None"
      ],
      "metadata": {
        "id": "1NgAY2oLK15R"
      },
      "execution_count": 12,
      "outputs": []
    },
    {
      "cell_type": "markdown",
      "source": [],
      "metadata": {
        "id": "EWZdTvfLYhrU"
      }
    },
    {
      "cell_type": "code",
      "source": [
        "import re\n",
        "\n",
        "def extrair_ano_mes_da_url(url):\n",
        "    # Define um padrão regex para extrair o ano e o mês\n",
        "    padrao = r'BASE_DE_DADOS_CNES_(\\d{4})(\\d{2})\\.ZIP'\n",
        "\n",
        "    # Tenta encontrar o padrão na URL\n",
        "    correspondencia = re.search(padrao, url)\n",
        "\n",
        "    if correspondencia:\n",
        "        ano = correspondencia.group(1)\n",
        "        mes = correspondencia.group(2)\n",
        "        ano_mes = f\"{ano}{mes}\"\n",
        "        return ano_mes\n",
        "    else:\n",
        "        return None"
      ],
      "metadata": {
        "id": "Kgh93uytWf_b"
      },
      "execution_count": 13,
      "outputs": []
    },
    {
      "cell_type": "code",
      "source": [
        "url_atual = obter_ultima_url_valida()"
      ],
      "metadata": {
        "id": "EwQyTsmzWl7V"
      },
      "execution_count": 14,
      "outputs": []
    },
    {
      "cell_type": "code",
      "source": [
        "print(url_atual)"
      ],
      "metadata": {
        "colab": {
          "base_uri": "https://localhost:8080/"
        },
        "id": "Gi0pDTBlWyGA",
        "outputId": "2ca97507-c346-4785-9975-0c146033b03d"
      },
      "execution_count": 15,
      "outputs": [
        {
          "output_type": "stream",
          "name": "stdout",
          "text": [
            "ftp://ftp.datasus.gov.br/cnes/BASE_DE_DADOS_CNES_202412.ZIP\n"
          ]
        }
      ]
    },
    {
      "cell_type": "code",
      "source": [
        "ano_mes = extrair_ano_mes_da_url(url_atual)"
      ],
      "metadata": {
        "id": "pKwR9ZTpW1KK"
      },
      "execution_count": 16,
      "outputs": []
    },
    {
      "cell_type": "code",
      "source": [
        "ano_mes"
      ],
      "metadata": {
        "colab": {
          "base_uri": "https://localhost:8080/",
          "height": 35
        },
        "id": "-Pf42YYVW56f",
        "outputId": "56e2a098-953b-4a9a-99e5-259420fc7f9b"
      },
      "execution_count": 17,
      "outputs": [
        {
          "output_type": "execute_result",
          "data": {
            "text/plain": [
              "'202412'"
            ],
            "application/vnd.google.colaboratory.intrinsic+json": {
              "type": "string"
            }
          },
          "metadata": {},
          "execution_count": 17
        }
      ]
    }
  ]
}